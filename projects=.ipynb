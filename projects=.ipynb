{
 "cells": [
  {
   "cell_type": "markdown",
   "id": "bff77176",
   "metadata": {},
   "source": [
    "# Linear Regression Line in Python"
   ]
  },
  {
   "cell_type": "code",
   "execution_count": 3,
   "id": "44032733",
   "metadata": {},
   "outputs": [],
   "source": [
    "import numpy as np\n",
    "import matplotlib.pyplot as plt\n",
    "import statistics as s\n",
    "import math as m"
   ]
  },
  {
   "cell_type": "code",
   "execution_count": 4,
   "id": "c3837dfb",
   "metadata": {},
   "outputs": [],
   "source": [
    "# Create the list for the data h is the height of the person w is the average weight. \n",
    "h=[58,60,61,64,66,69,70,71,72,73]\n",
    "w=[102,109,113,125,133,146,149,153,158,162]"
   ]
  },
  {
   "cell_type": "code",
   "execution_count": 11,
   "id": "4bd85339",
   "metadata": {},
   "outputs": [],
   "source": [
    "# create the function of the best fil line. The output is a pair in which firts element is slope\n",
    "# and the second element is y-intercept (b) of line of best fit. \n",
    "\n",
    "def bestFitLine(x,y):\n",
    "    N=len(x)\n",
    "    sx=0   # the sum of x values\n",
    "    sy=0   # the sum of y values\n",
    "    sxy=0  # The sum of  product of corrresponding x and y values\n",
    "    sx2=0  # The sum of squers of x values\n",
    "    for i in range(N):\n",
    "        sx=sx+x[i]\n",
    "        sy=sy+y[i]\n",
    "        sxy=sxy+x[i]*y[i]\n",
    "        sx2=sx2+x[i]*x[i]\n",
    "    m=(N*sxy-sx*sy)/(N*sx2-sx*sx)\n",
    "    b=(sy-m*sx)/N\n",
    "    return m,b"
   ]
  },
  {
   "cell_type": "code",
   "execution_count": 12,
   "id": "8ee2dcf0",
   "metadata": {},
   "outputs": [
    {
     "data": {
      "text/plain": [
       "(4.024390243902439, -132.21951219512192)"
      ]
     },
     "execution_count": 12,
     "metadata": {},
     "output_type": "execute_result"
    }
   ],
   "source": [
    "bestFitLine(h,w)"
   ]
  },
  {
   "cell_type": "code",
   "execution_count": 12,
   "id": "9cb9daa6",
   "metadata": {},
   "outputs": [
    {
     "data": {
      "text/plain": [
       "4.024390243902439"
      ]
     },
     "execution_count": 12,
     "metadata": {},
     "output_type": "execute_result"
    }
   ],
   "source": [
    "bestFitLine(h,w)[0]"
   ]
  },
  {
   "cell_type": "code",
   "execution_count": 13,
   "id": "a1ef946a",
   "metadata": {},
   "outputs": [
    {
     "data": {
      "text/plain": [
       "-132.21951219512192"
      ]
     },
     "execution_count": 13,
     "metadata": {},
     "output_type": "execute_result"
    }
   ],
   "source": [
    "bestFitLine(h,w)[1]"
   ]
  },
  {
   "cell_type": "code",
   "execution_count": 15,
   "id": "acca16b6",
   "metadata": {},
   "outputs": [
    {
     "data": {
      "text/plain": [
       "[101.19512195121953,\n",
       " 109.24390243902442,\n",
       " 113.26829268292687,\n",
       " 125.34146341463418,\n",
       " 133.39024390243907,\n",
       " 145.46341463414637,\n",
       " 149.4878048780488,\n",
       " 153.51219512195127,\n",
       " 157.53658536585368,\n",
       " 161.56097560975616]"
      ]
     },
     "execution_count": 15,
     "metadata": {},
     "output_type": "execute_result"
    }
   ],
   "source": [
    "w1=[]\n",
    "for i in range(len(h)):\n",
    "    w1.append(bestFitLine(h,w)[0]*h[i]+bestFitLine(h,w)[1])\n",
    "w1"
   ]
  },
  {
   "cell_type": "code",
   "execution_count": 16,
   "id": "3433c90c",
   "metadata": {},
   "outputs": [
    {
     "data": {
      "text/plain": [
       "[102, 109, 113, 125, 133, 146, 149, 153, 158, 162]"
      ]
     },
     "execution_count": 16,
     "metadata": {},
     "output_type": "execute_result"
    }
   ],
   "source": [
    "w"
   ]
  },
  {
   "cell_type": "code",
   "execution_count": 32,
   "id": "d627ddf8",
   "metadata": {},
   "outputs": [],
   "source": [
    "# create the function to find correlation coefficient. \n",
    "def corrCoefficient(x,y):\n",
    "    N=len(x)\n",
    "    sx=0   # the sum of x values\n",
    "    sy=0   # the sum of y values\n",
    "    sxy=0  # The sum of  product of corrresponding x and y values\n",
    "    sx2=0  # The sum of squers of x values\n",
    "    sy2=0\n",
    "    for i in range(N):\n",
    "        sx=sx+x[i]\n",
    "        sy=sy+y[i]\n",
    "        sxy=sxy+x[i]*y[i]\n",
    "        sx2=sx2+x[i]*x[i]\n",
    "        sy2=sy2+y[i]*y[i]\n",
    "\n",
    "        \n",
    "    r=(N*sxy-sx*sy)/np.sqrt((N*sx2-sx*sx)*(N*sy2-sy*sy))\n",
    "    return r"
   ]
  },
  {
   "cell_type": "code",
   "execution_count": 33,
   "id": "3c21e05f",
   "metadata": {},
   "outputs": [
    {
     "data": {
      "text/plain": [
       "0.9997361008278345"
      ]
     },
     "execution_count": 33,
     "metadata": {},
     "output_type": "execute_result"
    }
   ],
   "source": [
    "corrCoefficient(h,w)"
   ]
  },
  {
   "cell_type": "markdown",
   "id": "911e03cc",
   "metadata": {},
   "source": [
    "## The Model and discussion on accuricy of the Model\n",
    "\n",
    "When we apply line of best fit function (bestFitLine)) the model is \n",
    " \n",
    "w=4.024h-132.22\n",
    "\n",
    "where h isthe height of healthy body and w is corresponding weight of the body.\n",
    "\n",
    "And, when we apply correlation coefficient function (corr Coefficient)) we find correlation coefficient which is \n",
    "\n",
    "r=0.9997\n",
    "\n",
    "That is very close to 1. Which means the model is very strong, almost perfect and positive."
   ]
  },
  {
   "cell_type": "code",
   "execution_count": 13,
   "id": "d7442fac",
   "metadata": {},
   "outputs": [
    {
     "data": {
      "image/png": "[encoded data removed]",
      "text/plain": [
       "<Figure size 640x480 with 1 Axes>"
      ]
     },
     "metadata": {},
     "output_type": "display_data"
    }
   ],
   "source": [
    "# create bubble vector \n",
    "bubb=[]\n",
    "for i in range(len(h)):\n",
    "    bubb.append(w[i])\n",
    "# Draw the scatter plot \n",
    "plt.scatter(h,w,c=\"pink\",marker=\"*\",s=bubb)\n",
    "\n",
    "# Label of axis\n",
    "plt.xlabel(\"Height of the body (h)\")\n",
    "plt.ylabel(\"Weight of the body (w)\")\n",
    "\n",
    "#Title the graph \n",
    "plt.title(\"Scatter plot and graph of the model\")\n",
    "\n",
    "# plot graph of the model\n",
    "x=np.linspace(50,80,100)\n",
    "y=[]\n",
    "for i in x:\n",
    "    y.append(i*bestFitLine(h,w)[0]+bestFitLine(h,w)[1])\n",
    "plt.plot(x,y)\n",
    "\n",
    "# Write equation of model in the graph \n",
    "plt.text(54,80,\"w=4.024h-132.22\")\n",
    "# display the graph, labels and title \n",
    "plt.show()"
   ]
  },
  {
   "cell_type": "code",
   "execution_count": 1,
   "id": "2c8c0ffc",
   "metadata": {},
   "outputs": [
    {
     "data": {
      "text/plain": [
       "149.46"
      ]
     },
     "execution_count": 1,
     "metadata": {},
     "output_type": "execute_result"
    }
   ],
   "source": [
    "# Find the average weight when the height is 70 inches in your model. \n",
    "#Compare the result with the actual weight given in the data\n",
    "# Actual weight 149\n",
    "4.024*70-132.22"
   ]
  },
  {
   "cell_type": "code",
   "execution_count": 4,
   "id": "bc14d30e",
   "metadata": {},
   "outputs": [
    {
     "data": {
      "text/plain": [
       "0.30872483221477043"
      ]
     },
     "execution_count": 4,
     "metadata": {},
     "output_type": "execute_result"
    }
   ],
   "source": [
    "100*np.abs(149-149.46)/149"
   ]
  },
  {
   "cell_type": "code",
   "execution_count": null,
   "id": "4d4b5a0b",
   "metadata": {},
   "outputs": [],
   "source": []
  },
  {
   "cell_type": "markdown",
   "id": "08b6cd4c",
   "metadata": {},
   "source": [
    "### According to the results I got 149.46 but the actual anwser is 149. This proves the model is very accurate. \n",
    "### The percenatage difference between actual and perdicted weight is 0.31%."
   ]
  },
  {
   "cell_type": "code",
   "execution_count": 5,
   "id": "32687b17",
   "metadata": {},
   "outputs": [
    {
     "data": {
      "text/plain": [
       "141.412"
      ]
     },
     "execution_count": 5,
     "metadata": {},
     "output_type": "execute_result"
    }
   ],
   "source": [
    "# If the weight of a body is within 10 % of the weight of a healthy body according to your model then he is assumed to be healthy.\n",
    "# he is assumed to be healthy.\n",
    "# My height is 68 inches and weight is 203\n",
    "# The healthy weight for my height is:\n",
    "4.024*68-132.22"
   ]
  },
  {
   "cell_type": "code",
   "execution_count": 6,
   "id": "83d553d3",
   "metadata": {},
   "outputs": [
    {
     "data": {
      "text/plain": [
       "43.552173790060245"
      ]
     },
     "execution_count": 6,
     "metadata": {},
     "output_type": "execute_result"
    }
   ],
   "source": [
    "100*np.abs(203-141.412)/141.412"
   ]
  },
  {
   "cell_type": "code",
   "execution_count": null,
   "id": "32876bc5",
   "metadata": {},
   "outputs": [],
   "source": []
  }
 ],
 "metadata": {
  "kernelspec": {
   "display_name": "Python 3 (ipykernel)",
   "language": "python",
   "name": "python3"
  },
  "language_info": {
   "codemirror_mode": {
    "name": "ipython",
    "version": 3
   },
   "file_extension": ".py",
   "mimetype": "text/x-python",
   "name": "python",
   "nbconvert_exporter": "python",
   "pygments_lexer": "ipython3",
   "version": "3.11.5"
  }
 },
 "nbformat": 4,
 "nbformat_minor": 5
}
